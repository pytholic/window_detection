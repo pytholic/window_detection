{
 "cells": [
  {
   "cell_type": "code",
   "execution_count": 26,
   "id": "a3372f40",
   "metadata": {},
   "outputs": [],
   "source": [
    "import onnx\n",
    "import onnxruntime\n",
    "import numpy as np\n",
    "from onnxruntime.quantization import quantize_static, QuantType, QuantFormat, CalibrationDataReader, CalibrationMethod"
   ]
  },
  {
   "cell_type": "markdown",
   "id": "d8bf6e59",
   "metadata": {},
   "source": [
    "# Static"
   ]
  },
  {
   "cell_type": "code",
   "execution_count": 27,
   "id": "ee7a0147",
   "metadata": {},
   "outputs": [],
   "source": [
    "model_fp32 = './model/best_model.onnx'\n",
    "model_quant = './model/quant_model_static_test.onnx'\n",
    "data_path = './data_final/test'\n",
    "onnx_model = onnx.load(model_fp32)"
   ]
  },
  {
   "cell_type": "code",
   "execution_count": 28,
   "id": "e9f847ab",
   "metadata": {},
   "outputs": [
    {
     "name": "stdout",
     "output_type": "stream",
     "text": [
      "The model is valid!\n"
     ]
    }
   ],
   "source": [
    "# Check the model\n",
    "try:\n",
    "    onnx.checker.check_model(onnx_model)\n",
    "except onnx.checker.ValidationError as e:\n",
    "    print(\"The model is invalid: %s\" % e)\n",
    "else:\n",
    "    print(\"The model is valid!\")"
   ]
  },
  {
   "cell_type": "code",
   "execution_count": 29,
   "id": "9210e3dd",
   "metadata": {},
   "outputs": [],
   "source": [
    "# DataReader\n",
    "class CalibrationDataProvider(CalibrationDataReader):\n",
    "    def __init__(self):\n",
    "        super(CalibrationDataProvider, self).__init__()\n",
    "        self.counter = 0\n",
    "\n",
    "    def get_next(self):\n",
    "        if self.counter > 2:\n",
    "            return None\n",
    "        else:\n",
    "            self.counter += 1\n",
    "            return {'x': np.random.randn(1, 3, 224, 224).astype(np.float32)}"
   ]
  },
  {
   "cell_type": "code",
   "execution_count": 30,
   "id": "6bf05afe",
   "metadata": {},
   "outputs": [],
   "source": [
    "dr = CalibrationDataProvider()"
   ]
  },
  {
   "cell_type": "code",
   "execution_count": 31,
   "id": "3d7e32bf",
   "metadata": {},
   "outputs": [],
   "source": [
    "quantized_model = quantize_static(model_fp32,\n",
    "                model_quant,\n",
    "                dr,\n",
    "                quant_format=QuantFormat.QDQ,\n",
    "                optimize_model=True,\n",
    "                activation_type=QuantType.QInt8,\n",
    "                weight_type=QuantType.QInt8,\n",
    "                calibrate_method=CalibrationMethod.MinMax)"
   ]
  },
  {
   "cell_type": "markdown",
   "id": "862bf791",
   "metadata": {},
   "source": [
    "# Dynamic"
   ]
  },
  {
   "cell_type": "code",
   "execution_count": 37,
   "id": "f2413f52",
   "metadata": {},
   "outputs": [],
   "source": [
    "# Dynamic quantization\n",
    "\n",
    "import onnx\n",
    "from onnxruntime.quantization import quantize_dynamic, QuantType\n",
    "\n",
    "model_fp32 = './model/best_model.onnx'\n",
    "model_quant = './model/quant_model.onnx'\n",
    "quantized_model = quantize_dynamic(model_fp32, model_quant, weight_type=QuantType.QUInt8)"
   ]
  },
  {
   "cell_type": "code",
   "execution_count": null,
   "id": "8dd09ef5",
   "metadata": {},
   "outputs": [],
   "source": []
  }
 ],
 "metadata": {
  "kernelspec": {
   "display_name": "Python 3 (ipykernel)",
   "language": "python",
   "name": "python3"
  },
  "language_info": {
   "codemirror_mode": {
    "name": "ipython",
    "version": 3
   },
   "file_extension": ".py",
   "mimetype": "text/x-python",
   "name": "python",
   "nbconvert_exporter": "python",
   "pygments_lexer": "ipython3",
   "version": "3.10.4"
  }
 },
 "nbformat": 4,
 "nbformat_minor": 5
}
