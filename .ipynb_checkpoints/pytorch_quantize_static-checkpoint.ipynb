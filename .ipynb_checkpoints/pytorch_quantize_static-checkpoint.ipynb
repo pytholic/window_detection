{
 "cells": [
  {
   "cell_type": "code",
   "execution_count": 10,
   "id": "4c2a6997",
   "metadata": {},
   "outputs": [],
   "source": [
    "# Import modules\n",
    "import os\n",
    "import cv2\n",
    "import numpy as np\n",
    "\n",
    "import torch\n",
    "import torch.nn as nn\n",
    "import torch.nn.functional as F"
   ]
  },
  {
   "cell_type": "code",
   "execution_count": 11,
   "id": "f1c8dddf",
   "metadata": {},
   "outputs": [
    {
     "name": "stdout",
     "output_type": "stream",
     "text": [
      "cpu\n"
     ]
    }
   ],
   "source": [
    "model_path = os.getcwd() + '/model/best_model.pth'\n",
    "NUM_CLASSES = 2\n",
    "\n",
    "# Set device\n",
    "device = torch.device(\"cpu\")  # \"cpu\", cuda:0\"\n",
    "print(device)"
   ]
  },
  {
   "cell_type": "code",
   "execution_count": 12,
   "id": "947f4156",
   "metadata": {},
   "outputs": [],
   "source": [
    "class Net(nn.Module):\n",
    "    \n",
    "    def __init__(self):\n",
    "        super().__init__() \n",
    "        self.quant = torch.quantization.QuantStub()\n",
    "        self.num_classes = NUM_CLASSES\n",
    "        self.conv1 = nn.Conv2d(3, 32, 5) \n",
    "        self.conv2 = nn.Conv2d(32, 64, 3)\n",
    "        self.conv3 = nn.Conv2d(64, 128, 3)\n",
    "        \n",
    "        x = torch.randn(3,224,224).view(-1,3,224,224)\n",
    "        self._to_linear = None\n",
    "        self.convs(x)\n",
    "\n",
    "        self.fc1 = nn.Linear(self._to_linear, 10)\n",
    "        self.fc2 = nn.Linear(10, NUM_CLASSES)\n",
    "        self.dequant = torch.quantization.DeQuantStub()\n",
    "\n",
    "    def convs(self, x):\n",
    "        # max pooling over 2x2\n",
    "        x = F.max_pool2d(F.relu(self.conv1(x)), (2, 2))\n",
    "        x = F.max_pool2d(F.relu(self.conv2(x)), (2, 2))\n",
    "        x = F.max_pool2d(F.relu(self.conv3(x)), (2, 2))\n",
    "        \n",
    "        if self._to_linear is None:\n",
    "            self._to_linear = x[0].shape[0]*x[0].shape[1]*x[0].shape[2]\n",
    "        return x\n",
    "\n",
    "    def forward(self, x):\n",
    "        x = self.quant(x)\n",
    "        x = self.convs(x)\n",
    "        x = x.reshape(-1, self._to_linear) \n",
    "        x = F.relu(self.fc1(x))\n",
    "        x = self.fc2(x)\n",
    "        x = self.dequant(x)\n",
    "        if self.num_classes == 2:\n",
    "            return F.sigmoid(x)\n",
    "        else:\n",
    "            return F.softmax(x, dim=1)"
   ]
  },
  {
   "cell_type": "code",
   "execution_count": 13,
   "id": "6d98bfcb",
   "metadata": {},
   "outputs": [
    {
     "data": {
      "text/plain": [
       "Net(\n",
       "  (quant): QuantStub()\n",
       "  (conv1): Conv2d(3, 32, kernel_size=(5, 5), stride=(1, 1))\n",
       "  (conv2): Conv2d(32, 64, kernel_size=(3, 3), stride=(1, 1))\n",
       "  (conv3): Conv2d(64, 128, kernel_size=(3, 3), stride=(1, 1))\n",
       "  (fc1): Linear(in_features=86528, out_features=10, bias=True)\n",
       "  (fc2): Linear(in_features=10, out_features=2, bias=True)\n",
       "  (dequant): DeQuantStub()\n",
       ")"
      ]
     },
     "execution_count": 13,
     "metadata": {},
     "output_type": "execute_result"
    }
   ],
   "source": [
    "model = Net()\n",
    "state_dict = torch.load(model_path)\n",
    "model.load_state_dict(state_dict)\n",
    "model.to(device)\n",
    "model.eval()"
   ]
  },
  {
   "cell_type": "code",
   "execution_count": 14,
   "id": "071fdecc",
   "metadata": {},
   "outputs": [
    {
     "name": "stdout",
     "output_type": "stream",
     "text": [
      "3.84 MB\n"
     ]
    }
   ],
   "source": [
    "# Original model size\n",
    "print(\"%.2f MB\" %(os.path.getsize(model_path)/1e6))"
   ]
  },
  {
   "cell_type": "code",
   "execution_count": 15,
   "id": "18531fc5",
   "metadata": {},
   "outputs": [],
   "source": [
    "# Quantization\n",
    "backend = \"fbgemm\"  # fbgemm, qnnpack\n",
    "model.qconfig = torch.quantization.get_default_qconfig(backend)\n",
    "torch.backends.quantized.engine = backend\n",
    "model_static_quantized = torch.quantization.prepare(model, inplace=False)\n",
    "input_ = torch.randn(1, 3, 224, 224)\n",
    "model_static_quantized(input_)\n",
    "model_static_quantized = torch.quantization.convert(model_static_quantized, inplace=False)"
   ]
  },
  {
   "cell_type": "code",
   "execution_count": 8,
   "id": "39348ff7",
   "metadata": {},
   "outputs": [],
   "source": [
    "def print_model_size(mdl):\n",
    "    torch.save(mdl.state_dict(), os.path.join(os.getcwd(), \"model\", \"quant_model.pth\"))\n",
    "    print(\"%.2f MB\" %(os.path.getsize(os.path.join(os.getcwd(), \"model\", \"quant_model.pth\"))/1e6))\n",
    "    #os.remove('tmp.pt')"
   ]
  },
  {
   "cell_type": "code",
   "execution_count": 9,
   "id": "b7b57819",
   "metadata": {},
   "outputs": [
    {
     "name": "stdout",
     "output_type": "stream",
     "text": [
      "0.97 MB\n"
     ]
    }
   ],
   "source": [
    "print_model_size(model_static_quantized) "
   ]
  },
  {
   "cell_type": "code",
   "execution_count": 10,
   "id": "b4d8cc12",
   "metadata": {
    "scrolled": true
   },
   "outputs": [
    {
     "name": "stdout",
     "output_type": "stream",
     "text": [
      "Net(\n",
      "  (quant): Quantize(scale=tensor([0.0315]), zero_point=tensor([122]), dtype=torch.quint8)\n",
      "  (conv1): QuantizedConv2d(3, 32, kernel_size=(5, 5), stride=(1, 1), scale=0.02010815218091011, zero_point=142)\n",
      "  (conv2): QuantizedConv2d(32, 64, kernel_size=(3, 3), stride=(1, 1), scale=0.016971413046121597, zero_point=109)\n",
      "  (conv3): QuantizedConv2d(64, 128, kernel_size=(3, 3), stride=(1, 1), scale=0.04692097380757332, zero_point=67)\n",
      "  (fc1): QuantizedLinear(in_features=86528, out_features=10, scale=5.125334739685059, zero_point=25, qscheme=torch.per_tensor_affine)\n",
      "  (fc2): QuantizedLinear(in_features=10, out_features=2, scale=3.220567226409912, zero_point=144, qscheme=torch.per_tensor_affine)\n",
      "  (dequant): DeQuantize()\n",
      ")\n"
     ]
    }
   ],
   "source": [
    "print(model_static_quantized)"
   ]
  },
  {
   "cell_type": "code",
   "execution_count": 11,
   "id": "b027893d",
   "metadata": {},
   "outputs": [
    {
     "data": {
      "text/plain": [
       "Net(\n",
       "  (quant): Quantize(scale=tensor([0.0315]), zero_point=tensor([122]), dtype=torch.quint8)\n",
       "  (conv1): QuantizedConv2d(3, 32, kernel_size=(5, 5), stride=(1, 1), scale=0.02010815218091011, zero_point=142)\n",
       "  (conv2): QuantizedConv2d(32, 64, kernel_size=(3, 3), stride=(1, 1), scale=0.016971413046121597, zero_point=109)\n",
       "  (conv3): QuantizedConv2d(64, 128, kernel_size=(3, 3), stride=(1, 1), scale=0.04692097380757332, zero_point=67)\n",
       "  (fc1): QuantizedLinear(in_features=86528, out_features=10, scale=5.125334739685059, zero_point=25, qscheme=torch.per_tensor_affine)\n",
       "  (fc2): QuantizedLinear(in_features=10, out_features=2, scale=3.220567226409912, zero_point=144, qscheme=torch.per_tensor_affine)\n",
       "  (dequant): DeQuantize()\n",
       ")"
      ]
     },
     "execution_count": 11,
     "metadata": {},
     "output_type": "execute_result"
    }
   ],
   "source": [
    "# Test loading\n",
    "model = Net()\n",
    "backend = \"fbgemm\"\n",
    "model.qconfig = torch.quantization.get_default_qconfig(backend)\n",
    "model_prepared = torch.quantization.prepare(model, inplace=False)\n",
    "input_ = torch.randn(1, 3, 224, 224)\n",
    "model_prepared(input_)\n",
    "quant_model = torch.quantization.convert(model_prepared) \n",
    "    \n",
    "state_dict = torch.load(os.getcwd() + '/model/quant_model_qnn.pth')\n",
    "quant_model.load_state_dict(state_dict, strict=False)\n",
    "quant_model.eval()"
   ]
  },
  {
   "cell_type": "code",
   "execution_count": 16,
   "id": "9ca5ddad",
   "metadata": {},
   "outputs": [],
   "source": [
    "# Alternate saving and loading\n",
    "torch.jit.save(torch.jit.script(model_static_quantized), \"./model/quantized_test.pt\")"
   ]
  },
  {
   "cell_type": "code",
   "execution_count": 17,
   "id": "ef7e2e22",
   "metadata": {},
   "outputs": [],
   "source": [
    "quantized = torch.jit.load(\"./model/quantized_test.pt\")"
   ]
  },
  {
   "cell_type": "code",
   "execution_count": 18,
   "id": "42712bd7",
   "metadata": {},
   "outputs": [
    {
     "name": "stdout",
     "output_type": "stream",
     "text": [
      "RecursiveScriptModule(\n",
      "  original_name=Net\n",
      "  (quant): RecursiveScriptModule(original_name=Quantize)\n",
      "  (conv1): RecursiveScriptModule(original_name=Conv2d)\n",
      "  (conv2): RecursiveScriptModule(original_name=Conv2d)\n",
      "  (conv3): RecursiveScriptModule(original_name=Conv2d)\n",
      "  (fc1): RecursiveScriptModule(\n",
      "    original_name=Linear\n",
      "    (_packed_params): RecursiveScriptModule(original_name=LinearPackedParams)\n",
      "  )\n",
      "  (fc2): RecursiveScriptModule(\n",
      "    original_name=Linear\n",
      "    (_packed_params): RecursiveScriptModule(original_name=LinearPackedParams)\n",
      "  )\n",
      "  (dequant): RecursiveScriptModule(original_name=DeQuantize)\n",
      ")\n"
     ]
    }
   ],
   "source": [
    "print(quantized)"
   ]
  },
  {
   "cell_type": "code",
   "execution_count": null,
   "id": "8000f396",
   "metadata": {},
   "outputs": [],
   "source": []
  }
 ],
 "metadata": {
  "kernelspec": {
   "display_name": "Python 3 (ipykernel)",
   "language": "python",
   "name": "python3"
  },
  "language_info": {
   "codemirror_mode": {
    "name": "ipython",
    "version": 3
   },
   "file_extension": ".py",
   "mimetype": "text/x-python",
   "name": "python",
   "nbconvert_exporter": "python",
   "pygments_lexer": "ipython3",
   "version": "3.10.4"
  }
 },
 "nbformat": 4,
 "nbformat_minor": 5
}
