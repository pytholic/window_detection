{
 "cells": [
  {
   "cell_type": "code",
   "execution_count": 11,
   "id": "e0c55538",
   "metadata": {},
   "outputs": [],
   "source": [
    "import subprocess as sp\n",
    "import os\n",
    "import numpy as np\n",
    "import cv2\n",
    "from PIL import Image"
   ]
  },
  {
   "cell_type": "code",
   "execution_count": 7,
   "id": "ba030e4e",
   "metadata": {
    "scrolled": true
   },
   "outputs": [],
   "source": [
    "# workdir = os.getcwd()\n",
    "# command = ['ffmpeg', '-i', workdir + '/test.mp4', workdir + '/frames/%04d.jpg']\n",
    "\n",
    "# try:    \n",
    "#     pipe = sp.Popen(command, stdout=sp.PIPE, stderr=sp.STDOUT, universal_newlines=True)\n",
    "#     ffmpeg_output, _ = pipe.communicate()\n",
    "\n",
    "# except  sp.CalledProcessError as err:\n",
    "#      print(\"FFmpeg stdout output on error:\\n\" + err.output)\n",
    "        \n",
    "# print(ffmpeg_output)"
   ]
  },
  {
   "cell_type": "code",
   "execution_count": 8,
   "id": "c96244fe",
   "metadata": {},
   "outputs": [],
   "source": [
    "# workdir = os.getcwd()\n",
    "# video_path = workdir + '/test.mp4'\n",
    "\n",
    "# command = ['ffplay', \n",
    "#            '-i', f'{video_path}']\n",
    "\n",
    "# pipe = sp.Popen(command, stderr=sp.PIPE, stdout=sp.PIPE)"
   ]
  },
  {
   "cell_type": "code",
   "execution_count": 10,
   "id": "5782b2f8",
   "metadata": {},
   "outputs": [],
   "source": [
    "width = 1920\n",
    "height = 1080\n",
    "workdir = os.getcwd()\n",
    "video_path = workdir + '/test.mp4'\n",
    "\n",
    "command = ['ffmpeg', \n",
    "           '-i', f'{video_path}', \n",
    "           '-f', 'image2pipe',\n",
    "           '-pix_fmt', 'rgb24',\n",
    "           '-vcodec', 'rawvideo', '-']\n",
    "\n",
    "process = sp.Popen(command, stderr=sp.PIPE, stdout=sp.PIPE)\n",
    "\n",
    "while True:\n",
    "    arr = np.frombuffer(process.stdout.read(width*height*3), dtype=np.uint8)\n",
    "    frame = arr.reshape((height,width,3))\n",
    "    img = cv2.cvtColor(frame, cv2.COLOR_BGR2RGB)\n",
    "    cv2.imshow(\"Image\", img)\n",
    "    k = cv2.waitKey(0)\n",
    "    if k == 27:         # wait for ESC key to exit\n",
    "        cv2.destroyAllWindows()\n",
    "    break\n",
    "    #img.show() "
   ]
  },
  {
   "cell_type": "code",
   "execution_count": null,
   "id": "1802bec9",
   "metadata": {},
   "outputs": [],
   "source": []
  },
  {
   "cell_type": "code",
   "execution_count": null,
   "id": "db1bde0e",
   "metadata": {},
   "outputs": [],
   "source": []
  },
  {
   "cell_type": "code",
   "execution_count": null,
   "id": "7186fe5c",
   "metadata": {},
   "outputs": [],
   "source": []
  }
 ],
 "metadata": {
  "kernelspec": {
   "display_name": "Python 3 (ipykernel)",
   "language": "python",
   "name": "python3"
  },
  "language_info": {
   "codemirror_mode": {
    "name": "ipython",
    "version": 3
   },
   "file_extension": ".py",
   "mimetype": "text/x-python",
   "name": "python",
   "nbconvert_exporter": "python",
   "pygments_lexer": "ipython3",
   "version": "3.10.4"
  }
 },
 "nbformat": 4,
 "nbformat_minor": 5
}
