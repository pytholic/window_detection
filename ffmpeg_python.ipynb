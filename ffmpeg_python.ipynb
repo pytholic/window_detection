{
 "cells": [
  {
   "cell_type": "code",
   "execution_count": 1,
   "id": "9c38d188",
   "metadata": {},
   "outputs": [],
   "source": [
    "import subprocess as sp\n",
    "import os\n",
    "import ffmpeg\n",
    "import numpy as np\n",
    "import cv2\n",
    "from PIL import Image"
   ]
  },
  {
   "cell_type": "code",
   "execution_count": 40,
   "id": "7937de5d",
   "metadata": {},
   "outputs": [],
   "source": [
    "workdir = os.getcwd()\n",
    "video_path = workdir + '/test.mp4'\n",
    "out_filename = workdir + '/frames/out.mp4'\n",
    "\n",
    "probe = ffmpeg.probe(video_path)\n",
    "video_info = next(x for x in probe['streams'] if x['codec_type'] == 'video')\n",
    "width = int(video_info['width'])\n",
    "height = int(video_info['height'])\n",
    "num_frames = int(video_info['nb_frames'])"
   ]
  },
  {
   "cell_type": "code",
   "execution_count": 41,
   "id": "ca4653ac",
   "metadata": {},
   "outputs": [
    {
     "name": "stdout",
     "output_type": "stream",
     "text": [
      "{'index': 0, 'codec_name': 'h264', 'codec_long_name': 'H.264 / AVC / MPEG-4 AVC / MPEG-4 part 10', 'profile': 'Main', 'codec_type': 'video', 'codec_tag_string': 'avc1', 'codec_tag': '0x31637661', 'width': 1920, 'height': 1080, 'coded_width': 1920, 'coded_height': 1080, 'closed_captions': 0, 'has_b_frames': 1, 'sample_aspect_ratio': '1:1', 'display_aspect_ratio': '16:9', 'pix_fmt': 'yuvj420p', 'level': 40, 'color_range': 'pc', 'chroma_location': 'left', 'refs': 1, 'is_avc': 'true', 'nal_length_size': '4', 'r_frame_rate': '241/12', 'avg_frame_rate': '4597500/229091', 'time_base': '1/30000', 'start_pts': 0, 'start_time': '0.000000', 'duration_ts': 916364, 'duration': '30.545467', 'bit_rate': '12113230', 'bits_per_raw_sample': '8', 'nb_frames': '613', 'disposition': {'default': 1, 'dub': 0, 'original': 0, 'comment': 0, 'lyrics': 0, 'karaoke': 0, 'forced': 0, 'hearing_impaired': 0, 'visual_impaired': 0, 'clean_effects': 0, 'attached_pic': 0, 'timed_thumbnails': 0}, 'tags': {'creation_time': '2022-08-09T08:02:16.000000Z', 'language': 'und', 'handler_name': 'VideoHandler', 'vendor_id': '[0][0][0][0]', 'encoder': 'AVC Coding'}}\n"
     ]
    }
   ],
   "source": [
    "print(video_info)"
   ]
  },
  {
   "cell_type": "code",
   "execution_count": 42,
   "id": "2b2ecff4",
   "metadata": {},
   "outputs": [],
   "source": [
    "# out, err = (ffmpeg\n",
    "#         .input(video_path)\n",
    "#         .output(workdir + '/frames/%04d.jpg')\n",
    "#         .run(capture_stdout=True)\n",
    "# )"
   ]
  },
  {
   "cell_type": "code",
   "execution_count": 58,
   "id": "e402ffef",
   "metadata": {},
   "outputs": [],
   "source": [
    "def ffmpeg_reading_process(filename):\n",
    "    args = (\n",
    "        ffmpeg\n",
    "        .input(filename)\n",
    "        .output('pipe:', crf=0, preset='ultrafast', format='rawvideo', pix_fmt='rgb24')\n",
    "        .compile()\n",
    "    )\n",
    "    return sp.Popen(args, stdout=sp.PIPE)\n",
    "\n",
    "def ffmpeg_writing_process(filename, width, height):\n",
    "    args = (\n",
    "        ffmpeg\n",
    "        .input('pipe:', format='rawvideo', pix_fmt='rgb24', s='{}x{}'.format(width, height))\n",
    "        .filter('fps', fps=30, round='up')\n",
    "        .drawtext(text=\"Hello\",\n",
    "            fontcolor=\"red\",x=40,y=100,\n",
    "            fontsize=\"64\")\n",
    "        .setpts('1.2*PTS')\n",
    "        .output(filename, crf=0, preset='ultrafast', movflags='faststart', pix_fmt='rgb24')\n",
    "        .overwrite_output()\n",
    "        .compile()\n",
    "    )\n",
    "    return sp.Popen(args, stdin=sp.PIPE)\n",
    "\n",
    "def read_frame(process, width, height):\n",
    "    frame_size = width * height * 3\n",
    "    in_bytes = process.stdout.read(frame_size)\n",
    "    if len(in_bytes) == 0:\n",
    "        frame = None\n",
    "    else:\n",
    "        assert len(in_bytes) == frame_size\n",
    "        frame = (\n",
    "            np\n",
    "            .frombuffer(in_bytes, np.uint8)\n",
    "            .reshape([height, width, 3])\n",
    "        )\n",
    "    return frame\n",
    "\n",
    "def write_frame(process, frame):\n",
    "       \n",
    "    process.stdin.write(\n",
    "        frame\n",
    "        .astype(np.uint8)\n",
    "        .tobytes()\n",
    "    )"
   ]
  },
  {
   "cell_type": "code",
   "execution_count": 59,
   "id": "86cad0d8",
   "metadata": {},
   "outputs": [
    {
     "name": "stderr",
     "output_type": "stream",
     "text": [
      "ffmpeg version 4.4.2-0ubuntu0.22.04.1 Copyright (c) 2000-2021 the FFmpeg developers\n",
      "  built with gcc 11 (Ubuntu 11.2.0-19ubuntu1)\n",
      "  configuration: --prefix=/usr --extra-version=0ubuntu0.22.04.1 --toolchain=hardened --libdir=/usr/lib/x86_64-linux-gnu --incdir=/usr/include/x86_64-linux-gnu --arch=amd64 --enable-gpl --disable-stripping --enable-gnutls --enable-ladspa --enable-libaom --enable-libass --enable-libbluray --enable-libbs2b --enable-libcaca --enable-libcdio --enable-libcodec2 --enable-libdav1d --enable-libflite --enable-libfontconfig --enable-libfreetype --enable-libfribidi --enable-libgme --enable-libgsm --enable-libjack --enable-libmp3lame --enable-libmysofa --enable-libopenjpeg --enable-libopenmpt --enable-libopus --enable-libpulse --enable-librabbitmq --enable-librubberband --enable-libshine --enable-libsnappy --enable-libsoxr --enable-libspeex --enable-libsrt --enable-libssh --enable-libtheora --enable-libtwolame --enable-libvidstab --enable-libvorbis --enable-libvpx --enable-libwebp --enable-libx265 --enable-libxml2 --enable-libxvid --enable-libzimg --enable-libzmq --enable-libzvbi --enable-lv2 --enable-omx --enable-openal --enable-opencl --enable-opengl --enable-sdl2 --enable-pocketsphinx --enable-librsvg --enable-libmfx --enable-libdc1394 --enable-libdrm --enable-libiec61883 --enable-chromaprint --enable-frei0r --enable-libx264 --enable-shared\n",
      "  libavutil      56. 70.100 / 56. 70.100\n",
      "  libavcodec     58.134.100 / 58.134.100\n",
      "  libavformat    58. 76.100 / 58. 76.100\n",
      "  libavdevice    58. 13.100 / 58. 13.100\n",
      "  libavfilter     7.110.100 /  7.110.100\n",
      "  libswscale      5.  9.100 /  5.  9.100\n",
      "  libswresample   3.  9.100 /  3.  9.100\n",
      "  libpostproc    55.  9.100 / 55.  9.100\n",
      "ffmpeg version 4.4.2-0ubuntu0.22.04.1 Copyright (c) 2000-2021 the FFmpeg developers\n",
      "  built with gcc 11 (Ubuntu 11.2.0-19ubuntu1)\n",
      "  configuration: --prefix=/usr --extra-version=0ubuntu0.22.04.1 --toolchain=hardened --libdir=/usr/lib/x86_64-linux-gnu --incdir=/usr/include/x86_64-linux-gnu --arch=amd64 --enable-gpl --disable-stripping --enable-gnutls --enable-ladspa --enable-libaom --enable-libass --enable-libbluray --enable-libbs2b --enable-libcaca --enable-libcdio --enable-libcodec2 --enable-libdav1d --enable-libflite --enable-libfontconfig --enable-libfreetype --enable-libfribidi --enable-libgme --enable-libgsm --enable-libjack --enable-libmp3lame --enable-libmysofa --enable-libopenjpeg --enable-libopenmpt --enable-libopus --enable-libpulse --enable-librabbitmq --enable-librubberband --enable-libshine --enable-libsnappy --enable-libsoxr --enable-libspeex --enable-libsrt --enable-libssh --enable-libtheora --enable-libtwolame --enable-libvidstab --enable-libvorbis --enable-libvpx --enable-libwebp --enable-libx265 --enable-libxml2 --enable-libxvid --enable-libzimg --enable-libzmq --enable-libzvbi --enable-lv2 --enable-omx --enable-openal --enable-opencl --enable-opengl --enable-sdl2 --enable-pocketsphinx --enable-librsvg --enable-libmfx --enable-libdc1394 --enable-libdrm --enable-libiec61883 --enable-chromaprint --enable-frei0r --enable-libx264 --enable-shared\n",
      "  libavutil      56. 70.100 / 56. 70.100\n",
      "  libavcodec     58.134.100 / 58.134.100\n",
      "  libavformat    58. 76.100 / 58. 76.100\n",
      "  libavdevice    58. 13.100 / 58. 13.100\n",
      "  libavfilter     7.110.100 /  7.110.100\n",
      "  libswscale      5.  9.100 /  5.  9.100\n",
      "  libswresample   3.  9.100 /  3.  9.100\n",
      "  libpostproc    55.  9.100 / 55.  9.100\n",
      "Input #0, mov,mp4,m4a,3gp,3g2,mj2, from '/home/pytholic/Desktop/Projects/window_detection/test.mp4':\n",
      "  Metadata:\n",
      "    major_brand     : mp42\n",
      "    minor_version   : 0\n",
      "    compatible_brands: mp41isom\n",
      "    creation_time   : 2022-08-09T08:02:16.000000Z\n",
      "  Duration: 00:00:30.57, start: 0.000000, bitrate: 12291 kb/s\n",
      "  Stream #0:0(und): Video: h264 (Main) (avc1 / 0x31637661), yuvj420p(pc), 1920x1080 [SAR 1:1 DAR 16:9], 12113 kb/s, 20.07 fps, 20.08 tbr, 30k tbn, 60 tbc (default)\n",
      "    Metadata:\n",
      "      creation_time   : 2022-08-09T08:02:16.000000Z\n",
      "      handler_name    : VideoHandler\n",
      "      vendor_id       : [0][0][0][0]\n",
      "      encoder         : AVC Coding\n",
      "  Stream #0:1(und): Audio: aac (LC) (mp4a / 0x6134706D), 48000 Hz, stereo, fltp, 182 kb/s (default)\n",
      "    Metadata:\n",
      "      creation_time   : 2022-08-09T08:02:16.000000Z\n",
      "      handler_name    : SoundHandler\n",
      "      vendor_id       : [0][0][0][0]\n",
      "Codec AVOption crf (Select the quality for constant quality mode) specified for output file #0 (pipe:) has not been used for any stream. The most likely reason is either wrong type (e.g. a video option with no video streams) or that it is a private option of some encoder which was not actually used for any stream.\n",
      "Codec AVOption preset (Configuration preset) specified for output file #0 (pipe:) has not been used for any stream. The most likely reason is either wrong type (e.g. a video option with no video streams) or that it is a private option of some encoder which was not actually used for any stream.\n",
      "Stream mapping:\n",
      "  Stream #0:0 -> #0:0 (h264 (native) -> rawvideo (native))\n",
      "Press [q] to stop, [?] for help\n",
      "[swscaler @ 0x558684e2d4c0] deprecated pixel format used, make sure you did set range correctly\n",
      "Output #0, rawvideo, to 'pipe:':\n",
      "  Metadata:\n",
      "    major_brand     : mp42\n",
      "    minor_version   : 0\n",
      "    compatible_brands: mp41isom\n",
      "    encoder         : Lavf58.76.100\n",
      "  Stream #0:0(und): Video: rawvideo (RGB[24] / 0x18424752), rgb24(pc, gbr/unknown/unknown, progressive), 1920x1080 [SAR 1:1 DAR 16:9], q=2-31, 999475 kb/s, 20.08 fps, 20.08 tbn (default)\n",
      "    Metadata:\n",
      "      creation_time   : 2022-08-09T08:02:16.000000Z\n",
      "      handler_name    : VideoHandler\n",
      "      vendor_id       : [0][0][0][0]\n",
      "      encoder         : Lavc58.134.100 rawvideo\n",
      "Input #0, rawvideo, from 'pipe:':   6075kB time=00:00:00.04 bitrate=999465.8kbits/s speed=   2x    \n",
      "  Duration: N/A, start: 0.000000, bitrate: 1244160 kb/s\n",
      "  Stream #0:0: Video: rawvideo (RGB[24] / 0x18424752), rgb24, 1920x1080, 1244160 kb/s, 25 tbr, 25 tbn, 25 tbc\n",
      "[Parsed_drawtext_1 @ 0x5568d304a780] Using \"/usr/share/fonts/truetype/dejavu/DejaVuSans.ttf\"\n",
      "Stream mapping:\n",
      "  Stream #0:0 (rawvideo) -> fps\n",
      "  setpts -> Stream #0:0 (libx264)\n",
      "[Parsed_drawtext_1 @ 0x5568d308a800] Using \"/usr/share/fonts/truetype/dejavu/DejaVuSans.ttf\"\n",
      "Incompatible pixel format 'rgb24' for codec 'libx264', auto-selecting format 'yuv444p'\n",
      "[libx264 @ 0x5568d3053640] using cpu capabilities: MMX2 SSE2Fast SSSE3 SSE4.2 AVX FMA3 BMI2 AVX2\n",
      "[libx264 @ 0x5568d3053640] profile High 4:4:4 Predictive, level 4.0, 4:4:4, 8-bit\n",
      "[libx264 @ 0x5568d3053640] 264 - core 163 r3060 5db6aa6 - H.264/MPEG-4 AVC codec - Copyleft 2003-2021 - http://www.videolan.org/x264.html - options: cabac=0 ref=1 deblock=0:0:0 analyse=0:0 me=dia subme=0 psy=0 mixed_ref=0 me_range=16 chroma_me=1 trellis=0 8x8dct=0 cqm=0 deadzone=21,11 fast_pskip=0 chroma_qp_offset=0 threads=24 lookahead_threads=4 sliced_threads=0 nr=0 decimate=1 interlaced=0 bluray_compat=0 constrained_intra=0 bframes=0 weightp=0 keyint=250 keyint_min=25 scenecut=0 intra_refresh=0 rc=cqp mbtree=0 qp=0\n",
      "Output #0, mp4, to '/home/pytholic/Desktop/Projects/window_detection/frames/out.mp4':\n",
      "  Metadata:\n",
      "    encoder         : Lavf58.76.100\n",
      "  Stream #0:0: Video: h264 (avc1 / 0x31637661), yuv444p(tv, progressive), 1920x1080, q=2-31, 30 fps, 15360 tbn\n",
      "    Metadata:\n",
      "      encoder         : Lavc58.134.100 libx264\n",
      "    Side data:\n",
      "      cpb: bitrate max/min/avg: 0/0/0 buffer size: 0 vbv_delay: N/A\n",
      "frame=  614 fps= 71 q=-0.0 Lsize= 3730050kB time=00:00:30.57 bitrate=999475.2kbits/s dup=1 drop=0 speed=3.51x    \n",
      "video:3730050kB audio:0kB subtitle:0kB other streams:0kB global headers:0kB muxing overhead: 0.000000%\n",
      "[mp4 @ 0x5568d30a6c40] Starting second pass: moving the moov atom to the beginning of the filep=0 speed= 3.3x    \n"
     ]
    },
    {
     "name": "stdout",
     "output_type": "stream",
     "text": [
      "Process read done.\n",
      "Process write done.\n"
     ]
    },
    {
     "name": "stderr",
     "output_type": "stream",
     "text": [
      "frame=  884 fps=100 q=-1.0 Lsize=  550617kB time=00:00:29.43 bitrate=153249.4kbits/s dup=147 drop=0 speed=3.34x    \n",
      "video:550606kB audio:0kB subtitle:0kB other streams:0kB global headers:0kB muxing overhead: 0.001945%\n",
      "[libx264 @ 0x5568d3053640] frame I:4     Avg QP: 0.00  size:1024902\n",
      "[libx264 @ 0x5568d3053640] frame P:880   Avg QP: 0.00  size:636046\n",
      "[libx264 @ 0x5568d3053640] mb I  I16..4: 100.0%  0.0%  0.0%\n",
      "[libx264 @ 0x5568d3053640] mb P  I16..4: 29.1%  0.0%  0.0%  P16..4: 39.4%  0.0%  0.0%  0.0%  0.0%    skip:31.5%\n",
      "[libx264 @ 0x5568d3053640] coded y,u,v intra: 53.6% 52.4% 47.8% inter: 49.3% 41.6% 36.6%\n",
      "[libx264 @ 0x5568d3053640] i16 v,h,dc,p: 76% 24%  0%  0%\n",
      "[libx264 @ 0x5568d3053640] kb/s:153073.30\n"
     ]
    }
   ],
   "source": [
    "process_read = ffmpeg_reading_process(video_path)\n",
    "process_write = ffmpeg_writing_process(out_filename, width, height)\n",
    "\n",
    "while True:\n",
    "    frame = read_frame(process_read, width, height)\n",
    "    \n",
    "    if frame is not None:\n",
    "        write_frame(process_write, frame)\n",
    "    else:\n",
    "        break\n",
    "\n",
    "process_read.wait()\n",
    "print(\"Process read done.\")\n",
    "process_write.stdin.close()\n",
    "process_write.wait()\n",
    "print(\"Process write done.\")"
   ]
  },
  {
   "cell_type": "code",
   "execution_count": null,
   "id": "ceea3cda",
   "metadata": {},
   "outputs": [],
   "source": [
    "# process_read = ffmpeg_reading_process(video_path)\n",
    "\n",
    "# while True:\n",
    "#     frame = read_frame(process_read, width, height)\n",
    "#     img = cv2.cvtColor(frame, cv2.COLOR_BGR2RGB)\n",
    "#     cv2.imshow(\"Image\", img)\n",
    "#     k = cv2.waitKey(0)\n",
    "#     if k == 27:         # wait for ESC key to exit\n",
    "#         break\n",
    "    \n",
    "#     process.stdout.flush()\n",
    "        \n",
    "# cv2.destroyAllWindows()\n",
    "# process.terminate()"
   ]
  }
 ],
 "metadata": {
  "kernelspec": {
   "display_name": "Python 3 (ipykernel)",
   "language": "python",
   "name": "python3"
  },
  "language_info": {
   "codemirror_mode": {
    "name": "ipython",
    "version": 3
   },
   "file_extension": ".py",
   "mimetype": "text/x-python",
   "name": "python",
   "nbconvert_exporter": "python",
   "pygments_lexer": "ipython3",
   "version": "3.10.4"
  }
 },
 "nbformat": 4,
 "nbformat_minor": 5
}
